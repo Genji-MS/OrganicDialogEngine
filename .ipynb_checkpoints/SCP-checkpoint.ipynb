{
 "cells": [
  {
   "cell_type": "code",
   "execution_count": 142,
   "metadata": {},
   "outputs": [],
   "source": [
    "import numpy as np\n",
    "import pandas as pd\n",
    "from sklearn.feature_extraction.text import CountVectorizer, TfidfVectorizer\n",
    "from sklearn.cluster import KMeans\n",
    "from sklearn.metrics import adjusted_rand_score\n",
    "from scipy.spatial import distance"
   ]
  },
  {
   "cell_type": "code",
   "execution_count": 137,
   "metadata": {},
   "outputs": [],
   "source": [
    "with open('clean_script_Persona_Nocturne.txt', 'r') as file:\n",
    "    data1 = file.read().split('\\n')"
   ]
  },
  {
   "cell_type": "code",
   "execution_count": 138,
   "metadata": {},
   "outputs": [],
   "source": [
    "df2 = pd.read_csv('clean_script_Persona_Raidou.csv')\n",
    "df3 = pd.read_csv('clean_script_Soul_Hackers.csv')"
   ]
  },
  {
   "cell_type": "code",
   "execution_count": 139,
   "metadata": {},
   "outputs": [
    {
     "data": {
      "text/plain": [
       "['',\n",
       " 'Shinjuku Station ',\n",
       " \"It's as quiet as a tomb. \",\n",
       " 'Nothing is showing on the giant screen ',\n",
       " \"You don't know where you are? You're joking, right? \",\n",
       " 'Tokyo, of course! ',\n",
       " 'All of the humans are gone, though. ',\n",
       " 'Hmmm I just passed through Shinjuku, so ',\n",
       " 'If I go south, I should reach Yoyogi and Shibuya. ',\n",
       " 'I just saw a girl heading toward Shibuya. ']"
      ]
     },
     "execution_count": 139,
     "metadata": {},
     "output_type": "execute_result"
    }
   ],
   "source": [
    "data1[:10]"
   ]
  },
  {
   "cell_type": "code",
   "execution_count": 140,
   "metadata": {},
   "outputs": [],
   "source": [
    "del data1[0]"
   ]
  },
  {
   "cell_type": "code",
   "execution_count": 141,
   "metadata": {
    "scrolled": true
   },
   "outputs": [
    {
     "data": {
      "text/plain": [
       "['Shinjuku Station ',\n",
       " \"It's as quiet as a tomb. \",\n",
       " 'Nothing is showing on the giant screen ',\n",
       " \"You don't know where you are? You're joking, right? \",\n",
       " 'Tokyo, of course! ',\n",
       " 'All of the humans are gone, though. ',\n",
       " 'Hmmm I just passed through Shinjuku, so ',\n",
       " 'If I go south, I should reach Yoyogi and Shibuya. ',\n",
       " 'I just saw a girl heading toward Shibuya. ',\n",
       " 'I guess she really was a human ']"
      ]
     },
     "execution_count": 141,
     "metadata": {},
     "output_type": "execute_result"
    }
   ],
   "source": [
    "data1[:10]"
   ]
  },
  {
   "cell_type": "code",
   "execution_count": 155,
   "metadata": {},
   "outputs": [
    {
     "data": {
      "text/plain": [
       "8868"
      ]
     },
     "execution_count": 155,
     "metadata": {},
     "output_type": "execute_result"
    }
   ],
   "source": [
    "len(data1)"
   ]
  },
  {
   "cell_type": "code",
   "execution_count": 145,
   "metadata": {},
   "outputs": [],
   "source": [
    "vectorizer = CountVectorizer()\n",
    "X = vectorizer.fit_transform(data1)"
   ]
  },
  {
   "cell_type": "code",
   "execution_count": 147,
   "metadata": {},
   "outputs": [
    {
     "data": {
      "text/plain": [
       "(8868, 4521)"
      ]
     },
     "execution_count": 147,
     "metadata": {},
     "output_type": "execute_result"
    }
   ],
   "source": [
    "X.shape"
   ]
  },
  {
   "cell_type": "code",
   "execution_count": 153,
   "metadata": {},
   "outputs": [
    {
     "data": {
      "text/plain": [
       "array([[0, 0, 0, ..., 0, 0, 0],\n",
       "       [0, 0, 0, ..., 0, 0, 0],\n",
       "       [0, 0, 0, ..., 0, 0, 0],\n",
       "       ...,\n",
       "       [0, 0, 0, ..., 0, 0, 0],\n",
       "       [0, 0, 0, ..., 0, 0, 0],\n",
       "       [0, 0, 0, ..., 0, 0, 0]])"
      ]
     },
     "execution_count": 153,
     "metadata": {},
     "output_type": "execute_result"
    }
   ],
   "source": [
    "X.toarray()"
   ]
  },
  {
   "cell_type": "code",
   "execution_count": null,
   "metadata": {},
   "outputs": [],
   "source": [
    "distortions = []\n",
    "K = range(1, 10)\n",
    "for k in K:\n",
    "    # fit the k-means for a given k to the data (X)\n",
    "    km = KMeans(n_clusters=k)\n",
    "    km.fit(X)\n",
    "    # distance.cdist finds the squared distances\n",
    "    # axis=1 allows us to keep the min for each sample, not jsut the min across the entire dataset\n",
    "    # find the closest distance for each sample to a center, and take the average\n",
    "    distortions.append(sum(np.min(distance.cdist(X, km.cluster_centers_, 'euclidean'), axis=1)) / X.shape[0])\n",
    "\n",
    "# Plot the elbow: bx- = use a solid (-) blue (b) line, \n",
    "# and mark the x-axis points with an x (x)\n",
    "plt.plot(K, distortions, 'bx-')\n",
    "plt.xlabel('k')\n",
    "plt.ylabel('Distortion')\n",
    "plt.title('The Elbow Method showing the optimal k')\n",
    "plt.show()"
   ]
  }
 ],
 "metadata": {
  "kernelspec": {
   "display_name": "Python 3",
   "language": "python",
   "name": "python3"
  },
  "language_info": {
   "codemirror_mode": {
    "name": "ipython",
    "version": 3
   },
   "file_extension": ".py",
   "mimetype": "text/x-python",
   "name": "python",
   "nbconvert_exporter": "python",
   "pygments_lexer": "ipython3",
   "version": "3.7.4"
  }
 },
 "nbformat": 4,
 "nbformat_minor": 4
}
